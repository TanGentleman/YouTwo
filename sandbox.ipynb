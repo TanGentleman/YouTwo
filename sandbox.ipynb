{
 "cells": [
  {
   "cell_type": "code",
   "execution_count": null,
   "id": "efab847d",
   "metadata": {},
   "outputs": [],
   "source": [
    "from dotenv import load_dotenv\n",
    "import os\n",
    "import json\n",
    "from llama_index.core.agent.workflow import FunctionAgent\n",
    "from llama_index.llms.openai_like import OpenAILike\n",
    "from llama_index.core.tools.types import ToolMetadata, BaseTool\n",
    "from llama_index.tools.mcp import BasicMCPClient\n",
    "def get_api_key():\n",
    "    \"\"\"Load the API key from the environment variable.\"\"\"\n",
    "    load_dotenv()\n",
    "    return os.getenv(\"LITELLM_API_KEY\")\n",
    "API_KEY = get_api_key()\n",
    "if not API_KEY:\n",
    "    raise ValueError(\"API_KEY environment variable is not set. Please set it in your .env file.\")"
   ]
  },
  {
   "cell_type": "code",
   "execution_count": null,
   "id": "a3c40091",
   "metadata": {},
   "outputs": [],
   "source": [
    "# Connect to an MCP server using different transports\n",
    "CONVEX_DIR_PATH = \"/Users/tanujvasudeva/Documents/GitHub/kt-limitless/convex-app\"\n",
    "local_client = BasicMCPClient(\"npx\", args=[\"-y\", \"convex@latest\", \"mcp\", \"start\"])  # stdio"
   ]
  },
  {
   "cell_type": "code",
   "execution_count": null,
   "id": "b62ffb22",
   "metadata": {},
   "outputs": [],
   "source": [
    "async def get_server_tools():\n",
    "    \"\"\"Retrieve the tools from the MCP server.\"\"\"\n",
    "    valid_tool_names = [\"status\", \"functionSpec\", \"run\"]\n",
    "    server_tools = await local_client.list_tools()\n",
    "    tools = [tool for tool in server_tools.tools if tool.name in valid_tool_names]\n",
    "    print(f\"Tools available:\")\n",
    "    for idx, tool in enumerate(tools):\n",
    "        print(f\"{idx+1}. {tool.name}: {tool.description}\\n\")\n",
    "    return tools\n",
    "\n",
    "async def get_deploymentSelector():\n",
    "    \"\"\"Extract the deployment selector from the tool call result.\"\"\"\n",
    "    try:\n",
    "        status_args = {\"projectDir\": CONVEX_DIR_PATH}\n",
    "        response = await local_client.call_tool('status', status_args)\n",
    "        json_string = response.content[0].text\n",
    "        status = json.loads(json_string)\n",
    "        if status.get(\"error\"):\n",
    "            print(f\"Error: {status['error']}\")\n",
    "            return None\n",
    "        return json.loads(json_string)[\"availableDeployments\"][0][\"deploymentSelector\"]\n",
    "    except:\n",
    "        print(\"Error: MCP server ran into an error.\")\n",
    "        return None\n",
    "\n",
    "async def get_backend_tools(deployment_selector: str):\n",
    "    \"\"\"Retrieve the function specification from the MCP server.\"\"\"\n",
    "    valid_backend_tools = [\"lifelogs.js:searchMarkdown\", \"dashboard/sync.js:sync\"]\n",
    "    try:\n",
    "        response = await local_client.call_tool('functionSpec', {\"deploymentSelector\": deployment_selector})\n",
    "        json_string = response.content[0].text\n",
    "        all_tools = json.loads(json_string)\n",
    "    except:\n",
    "        print(\"Error: MCP server is not running. Please start the server.\")\n",
    "        return None\n",
    "    # Filter the tools based on the allow list\n",
    "    allowed_tools = [\n",
    "        tool for tool in all_tools\n",
    "        if tool.get(\"identifier\") in valid_backend_tools\n",
    "    ]\n",
    "\n",
    "    print(\"Allowed Tools:\")\n",
    "    for idx, tool in enumerate(allowed_tools):\n",
    "        print(f\"{idx+1}. {tool.get('identifier')}\")\n",
    "    return allowed_tools"
   ]
  },
  {
   "cell_type": "code",
   "execution_count": null,
   "id": "d55e74cc",
   "metadata": {},
   "outputs": [],
   "source": [
    "deployment_selector = await get_deploymentSelector()\n",
    "if not deployment_selector:\n",
    "    raise ValueError(\"Deployment selector could not be retrieved. Ensure the MCP server is running.\")\n",
    "backend_tools = await get_backend_tools(deployment_selector) or []\n",
    "backend_tools"
   ]
  },
  {
   "cell_type": "code",
   "execution_count": null,
   "id": "fdabf4e6",
   "metadata": {},
   "outputs": [],
   "source": [
    "MODEL_NAME = \"nebius-qwen-4b\""
   ]
  },
  {
   "cell_type": "code",
   "execution_count": null,
   "id": "1276dd95",
   "metadata": {},
   "outputs": [],
   "source": [
    "# Define a simple calculator tool\n",
    "def multiply(a: float, b: float) -> float:\n",
    "    \"\"\"Useful for multiplying two numbers.\"\"\"\n",
    "    return a * b\n",
    "\n",
    "def sync(sendNotification: bool = False) -> None:\n",
    "    \"\"\"Sync to the server.\"\"\"\n",
    "    print(f\"Notification sent: {sendNotification}\")\n",
    "\n",
    "\n",
    "llm = OpenAILike(\n",
    "    model=MODEL_NAME,\n",
    "    api_base=\"http://localhost:4000/v1\",\n",
    "    is_function_calling_model=True,\n",
    "    is_chat_model=True,\n",
    "    api_key=API_KEY,\n",
    ")\n",
    "\n",
    "# # Create an agent workflow with our calculator tool\n",
    "agent = FunctionAgent(\n",
    "    tools=[],\n",
    "    llm=llm,\n",
    "    system_prompt=\"You are a helpful assistant that can multiply two numbers.\",\n",
    ")\n",
    "\n",
    "\n",
    "# async def main():\n",
    "#     # Run the agent\n",
    "#     # response = await agent.run(\"What is 1234 * 4567?\")\n",
    "#     response = await agent.run(\"Run a quick sync.\")\n",
    "#     print(str(response))\n",
    "\n",
    "\n",
    "# # Run the agent\n",
    "# if __name__ == \"__main__\":\n",
    "#     await main()"
   ]
  },
  {
   "cell_type": "code",
   "execution_count": null,
   "id": "3031dfeb",
   "metadata": {},
   "outputs": [],
   "source": [
    "response = await agent.run(\"What is 12323324 * 4567?\")\n",
    "print(str(response))"
   ]
  }
 ],
 "metadata": {
  "kernelspec": {
   "display_name": ".venv",
   "language": "python",
   "name": "python3"
  },
  "language_info": {
   "codemirror_mode": {
    "name": "ipython",
    "version": 3
   },
   "file_extension": ".py",
   "mimetype": "text/x-python",
   "name": "python",
   "nbconvert_exporter": "python",
   "pygments_lexer": "ipython3",
   "version": "3.13.3"
  }
 },
 "nbformat": 4,
 "nbformat_minor": 5
}
