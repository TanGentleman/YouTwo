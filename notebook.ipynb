{
 "cells": [
  {
   "cell_type": "code",
   "execution_count": null,
   "id": "be1377c9",
   "metadata": {},
   "outputs": [],
   "source": [
    "import os\n",
    "from huggingface_hub import InferenceClient, AsyncInferenceClient, ChatCompletionInputTool\n",
    "from dotenv import load_dotenv\n",
    "\n",
    "load_dotenv()\n",
    "\n",
    "client = InferenceClient(\n",
    "    provider=\"openai\",\n",
    "    base_url=\"http://localhost:4000/v1\",\n",
    "    api_key=os.environ[\"LITELLM_API_KEY\"],\n",
    ")\n",
    "async_client = AsyncInferenceClient(\n",
    "    provider=\"openai\",\n",
    "    base_url=\"http://localhost:4000/v1\",\n",
    "    api_key=os.environ[\"LITELLM_API_KEY\"],\n",
    ")\n",
    "tools = [\n",
    "    ChatCompletionInputTool(\n",
    "        type=\"function\",\n",
    "        function={\n",
    "            \"name\": \"sync_data\",\n",
    "            \"description\": \"Synchronize database of lifelogs.\",\n",
    "            \"parameters\": {\n",
    "                \"type\": \"object\",\n",
    "                \"properties\": {\n",
    "                    \"sendSlackMessage\": {\n",
    "                        \"type\": \"boolean\",\n",
    "                        \"description\": \"If true, sends a Slack message.\"\n",
    "                    }\n",
    "                },\n",
    "                # \"required\": [\"sendSlackMessage\"],\n",
    "            }\n",
    "        }\n",
    "    )\n",
    "]"
   ]
  },
  {
   "cell_type": "code",
   "execution_count": 6,
   "id": "95eb6378",
   "metadata": {},
   "outputs": [
    {
     "name": "stdout",
     "output_type": "stream",
     "text": [
      "ChatCompletionOutputMessage(role='assistant', content='Alright, let\\'s tackle the problem: **How many \\'G\\'s are in the word \\'huggingface\\'?**\\n\\n### Understanding the Problem\\nFirst, I need to understand what the question is asking. We\\'re given the word \"huggingface,\" and we need to count how many times the letter \\'G\\' (uppercase or lowercase) appears in it.\\n\\n### Breaking Down the Word\\nLet\\'s write down the word and look at each letter one by one.\\n\\nThe word is: h u g g i n g f a c e\\n\\nNow, let\\'s list out each letter with its position to keep track:\\n\\n1. h\\n2. u\\n3. g\\n4. g\\n5. i\\n6. n\\n7. g\\n8. f\\n9. a\\n10. c\\n11. e\\n\\n### Identifying the \\'G\\'s\\nNow, let\\'s go through each letter and see if it\\'s a \\'g\\':\\n\\n1. h - not a g\\n2. u - not a g\\n3. g - yes, that\\'s one\\n4. g - yes, that\\'s two\\n5. i - not a g\\n6. n - not a g\\n7. g - yes, that\\'s three\\n8. f - not a g\\n9. a - not a g\\n10. c - not a g\\n11. e - not a g\\n\\n### Counting the \\'G\\'s\\nFrom the above, we\\'ve identified that the letter \\'g\\' appears at positions 3, 4, and 7. That\\'s a total of 3 times.\\n\\n### Verifying\\nTo ensure I didn\\'t miss anything, let\\'s quickly scan the word again: \"huggingface\"\\n\\n- h\\n- u\\n- g (1)\\n- g (2)\\n- i\\n- n\\n- g (3)\\n- f\\n- a\\n- c\\n- e\\n\\nYes, that confirms it: three \\'g\\'s.\\n\\n### Potential Pitfalls\\nIt\\'s easy to miscount if you rush, especially with letters that look similar or if you\\'re not paying attention to each letter individually. For example, one might overlook the \\'g\\' in the middle or count the \\'g\\'s too quickly and miss one. That\\'s why it\\'s helpful to go through each letter methodically.\\n\\n### Case Sensitivity\\nThe problem didn\\'t specify uppercase or lowercase, but since \"huggingface\" is all in lowercase, we only need to look for lowercase \\'g\\'s. If there were uppercase \\'G\\'s, we\\'d count those as well unless specified otherwise.\\n\\n### Final Answer\\nAfter carefully examining each letter in \"huggingface,\" we find that the letter \\'g\\' appears **3 times**.', tool_call_id=None, tool_calls=None, function_call=None)\n"
     ]
    }
   ],
   "source": [
    "completion = client.chat.completions.create(\n",
    "    model=\"deepseek-v3\",\n",
    "    messages=[\n",
    "        {\n",
    "            \"role\": \"user\",\n",
    "            \"content\": \"How many 'G's in 'huggingface'?\"\n",
    "        }\n",
    "    ],\n",
    ")\n",
    "\n",
    "print(completion.choices[0].message)"
   ]
  },
  {
   "cell_type": "code",
   "execution_count": 23,
   "id": "5c3b91bb",
   "metadata": {},
   "outputs": [
    {
     "name": "stdout",
     "output_type": "stream",
     "text": [
      "Tool call: sync_data\n",
      "Args: {'sendSlackMessage': True}\n"
     ]
    }
   ],
   "source": [
    "import json\n",
    "\n",
    "\n",
    "stream = client.chat.completions.create(\n",
    "    model=\"nebius/deepseek-ai/DeepSeek-V3-0324-fast\",\n",
    "    messages=[\n",
    "        {\n",
    "            \"role\": \"user\",\n",
    "            \"content\": \"Run a sync with a slack notification\"\n",
    "        }\n",
    "    ],\n",
    "    tools=tools,\n",
    "    tool_choice=\"auto\",  # LLM decides if it needs a tool\n",
    "    stream=True,\n",
    ")\n",
    "for chunk in stream:\n",
    "    if chunk.choices[0].delta.tool_calls:\n",
    "        for tool_call in chunk.choices[0].delta.tool_calls:\n",
    "            function_name = tool_call.function.name\n",
    "            function_args = json.loads(tool_call.function.arguments or \"{}\")\n",
    "            # Print the tool call name and arguments if available\n",
    "            print(f\"Tool call: {function_name}\")\n",
    "            if function_args:\n",
    "                print(f\"Args: {function_args}\")\n",
    "    elif chunk.choices[0].delta.content:\n",
    "        print(chunk.choices[0].delta.content, end=\"\", flush=True)"
   ]
  },
  {
   "cell_type": "code",
   "execution_count": null,
   "id": "913a7437",
   "metadata": {},
   "outputs": [],
   "source": []
  }
 ],
 "metadata": {
  "kernelspec": {
   "display_name": ".venv",
   "language": "python",
   "name": "python3"
  },
  "language_info": {
   "codemirror_mode": {
    "name": "ipython",
    "version": 3
   },
   "file_extension": ".py",
   "mimetype": "text/x-python",
   "name": "python",
   "nbconvert_exporter": "python",
   "pygments_lexer": "ipython3",
   "version": "3.13.3"
  }
 },
 "nbformat": 4,
 "nbformat_minor": 5
}
