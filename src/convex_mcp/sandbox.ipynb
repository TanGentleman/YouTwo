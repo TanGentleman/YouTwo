{
 "cells": [
  {
   "cell_type": "code",
   "execution_count": null,
   "metadata": {},
   "outputs": [],
   "source": [
    "import sys\n",
    "from pathlib import Path\n",
    "src_path = str(Path().resolve().parent.parent)\n",
    "if src_path != sys.path[0]:\n",
    "    sys.path.insert(0, src_path)"
   ]
  },
  {
   "cell_type": "code",
   "execution_count": 5,
   "metadata": {},
   "outputs": [],
   "source": [
    "import os\n",
    "import json\n",
    "from src.convex_mcp.server import initialize_mcp, run_convex_function, get_function_spec, get_graph_data\n",
    "# from src.convex_mcp.actions import create_entities, create_relations\n",
    "from src.schemas import BriefEntity, BriefRelation\n",
    "from src.convex_mcp.examples import ENTITY_1,  ENTITY_2, RELATION_3"
   ]
  },
  {
   "cell_type": "code",
   "execution_count": 6,
   "metadata": {},
   "outputs": [
    {
     "name": "stdout",
     "output_type": "stream",
     "text": [
      "Initializing MCP with project dir: /Users/tanujvasudeva/Documents/GitHub/YouTwo/backend\n"
     ]
    }
   ],
   "source": [
    "deployment_info = await initialize_mcp()\n",
    "if not deployment_info:\n",
    "    raise Exception(\"No deployment info found\")"
   ]
  },
  {
   "cell_type": "code",
   "execution_count": 7,
   "metadata": {},
   "outputs": [],
   "source": [
    "function_spec = await get_function_spec(deployment_info)"
   ]
  },
  {
   "cell_type": "code",
   "execution_count": 11,
   "metadata": {},
   "outputs": [
    {
     "name": "stdout",
     "output_type": "stream",
     "text": [
      "entities.js:addObservations\n",
      "entities.js:createEntities\n",
      "entities.js:deleteEntities\n",
      "entities.js:deleteObservations\n",
      "entities.js:getBriefEntities\n",
      "relations.js:createRelations\n",
      "relations.js:deleteRelations\n",
      "knowledge.js:readGraph\n"
     ]
    }
   ],
   "source": [
    "# VALID_FUNCTIONS\n",
    "for func in function_spec:\n",
    "    print(func.get(\"identifier\"))\n",
    "    # if func.get(\"visibility\", {}).get(\"kind\") != \"internal\":\n",
    "    #     print(func)\n",
    "        # print(func.get(\"identifier\"), func.get(\"visibility\", {}).get(\"kind\"))"
   ]
  },
  {
   "cell_type": "code",
   "execution_count": 26,
   "metadata": {},
   "outputs": [],
   "source": [
    "def get_http_url():\n",
    "    if deployment_info['url']:\n",
    "        return deployment_info['url']\n",
    "    convex_url = os.getenv(\"CONVEX_URL\")\n",
    "    if not convex_url:\n",
    "        raise ValueError(\"CONVEX_URL environment variable not set\")\n",
    "    return convex_url\n",
    "\n",
    "graph_from_http = await get_graph_data({\"deploymentSelector\": None, \"url\": get_http_url()})"
   ]
  },
  {
   "cell_type": "code",
   "execution_count": 13,
   "metadata": {},
   "outputs": [
    {
     "data": {
      "text/plain": [
       "CallToolResult(meta=None, content=[TextContent(type='text', text='{\"result\":[{\"id\":\"j970cg7x2hqmxcmq4an7svf1c97hw8q2\",\"name\":\"Bacon\",\"success\":true},{\"id\":\"j9788n7m6gsdp42fzxzefedw2x7hxa94\",\"name\":\"Eggs\",\"success\":true},{\"id\":\"j970058y834wsar9y3xvkkws257hw9ph\",\"name\":\"Tashi\",\"success\":true}],\"logLines\":[]}', annotations=None)], isError=False)"
      ]
     },
     "execution_count": 13,
     "metadata": {},
     "output_type": "execute_result"
    }
   ],
   "source": [
    "entities: list[BriefEntity] = [\n",
    "    {\n",
    "        \"name\": \"Bacon\",\n",
    "        \"entityType\": \"food\"\n",
    "    },\n",
    "    {\n",
    "        \"name\": \"Eggs\",\n",
    "        \"entityType\": \"food\"\n",
    "    },\n",
    "    {\n",
    "        \"name\": \"Tashi\",\n",
    "        \"entityType\": \"person\"\n",
    "    }\n",
    "]\n",
    "await run_convex_function(deployment_info['deploymentSelector'], \"entities:createEntities\", {\"entities\": entities})"
   ]
  },
  {
   "cell_type": "code",
   "execution_count": 18,
   "metadata": {},
   "outputs": [],
   "source": [
    "graph = await run_convex_function(deployment_info['deploymentSelector'], \"knowledge:readGraph\", {})"
   ]
  },
  {
   "cell_type": "code",
   "execution_count": 20,
   "metadata": {},
   "outputs": [],
   "source": [
    "res_1 = json.loads(graph.content[0].text)[\"result\"]"
   ]
  },
  {
   "cell_type": "code",
   "execution_count": 27,
   "metadata": {},
   "outputs": [
    {
     "data": {
      "text/plain": [
       "True"
      ]
     },
     "execution_count": 27,
     "metadata": {},
     "output_type": "execute_result"
    }
   ],
   "source": [
    "res_1 == graph_from_http"
   ]
  },
  {
   "cell_type": "code",
   "execution_count": 30,
   "metadata": {},
   "outputs": [
    {
     "data": {
      "text/plain": [
       "{'entityType': 'person',\n",
       " 'id': 'j972py8g9baxmz4s71t47b5db57hvby2',\n",
       " 'name': 'Tan',\n",
       " 'observations': ['Tan often craves cheese.'],\n",
       " 'updatedAt': 1749893054437}"
      ]
     },
     "execution_count": 30,
     "metadata": {},
     "output_type": "execute_result"
    }
   ],
   "source": [
    "graph_from_http[\"entities\"][0]"
   ]
  },
  {
   "cell_type": "code",
   "execution_count": 31,
   "metadata": {},
   "outputs": [
    {
     "data": {
      "text/plain": [
       "{'from': 'Kiren',\n",
       " 'fromEntityId': 'j970eypejv9ge0eq39p6j7wm3h7hv8f8',\n",
       " 'id': 'jx72g68p96s503z9jx51p87kv57hvmtd',\n",
       " 'relationType': 'loves',\n",
       " 'to': 'Tan',\n",
       " 'toEntityId': 'j972py8g9baxmz4s71t47b5db57hvby2'}"
      ]
     },
     "execution_count": 31,
     "metadata": {},
     "output_type": "execute_result"
    }
   ],
   "source": [
    "res_1[\"relations\"][0]"
   ]
  },
  {
   "cell_type": "code",
   "execution_count": null,
   "metadata": {},
   "outputs": [],
   "source": []
  }
 ],
 "metadata": {
  "kernelspec": {
   "display_name": ".venv",
   "language": "python",
   "name": "python3"
  },
  "language_info": {
   "codemirror_mode": {
    "name": "ipython",
    "version": 3
   },
   "file_extension": ".py",
   "mimetype": "text/x-python",
   "name": "python",
   "nbconvert_exporter": "python",
   "pygments_lexer": "ipython3",
   "version": "3.11.12"
  }
 },
 "nbformat": 4,
 "nbformat_minor": 2
}
